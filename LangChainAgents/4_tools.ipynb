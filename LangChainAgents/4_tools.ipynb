{
 "cells": [
  {
   "cell_type": "code",
   "execution_count": 3,
   "id": "5b4df037",
   "metadata": {},
   "outputs": [],
   "source": [
    "from rich.console import Console\n",
    "import sys\n",
    "import builtins\n",
    "\n",
    "console = Console(force_terminal=False, file=sys.__stdout__)\n",
    "\n",
    "builtins.print = console.print"
   ]
  },
  {
   "cell_type": "code",
   "execution_count": 4,
   "id": "8c077659",
   "metadata": {},
   "outputs": [],
   "source": [
    "from langchain.agents import tool\n",
    "from pydantic import BaseModel, Field"
   ]
  },
  {
   "cell_type": "code",
   "execution_count": 5,
   "id": "5edd5a4b",
   "metadata": {},
   "outputs": [],
   "source": [
    "class CalcularDistanciaArgs(BaseModel):\n",
    "    cidade_origem: str = Field(description=\"CIdade de origem\",\n",
    "                               examples=[\"São Paulo\", \"Rio de Janeiro\"])\n",
    "    cidade_destino: str = Field(description=\"CIdade de destino\",\n",
    "                               examples=[\"Porto Alegre\", \"Curitiba\"])\n",
    "    \n",
    "@tool(args_schema=CalcularDistanciaArgs)\n",
    "def calcular_distancia(cidade_origem: str, cidade_destino: str):\n",
    "    \"\"\"Calcula a distância entre duas cidades\"\"\"\n",
    "    return f\"A distância entre {cidade_origem} e {cidade_destino} é de 300km\""
   ]
  },
  {
   "cell_type": "code",
   "execution_count": 6,
   "id": "3dabd5b0",
   "metadata": {},
   "outputs": [
    {
     "data": {
      "text/html": [
       "<pre style=\"white-space:pre;overflow-x:auto;line-height:normal;font-family:Menlo,'DejaVu Sans Mono',consolas,'Courier New',monospace\">A distância entre São Paulo e Porto Alegre é de 300km\n",
       "</pre>\n"
      ],
      "text/plain": [
       "A distância entre São Paulo e Porto Alegre é de 300km\n"
      ]
     },
     "metadata": {},
     "output_type": "display_data"
    }
   ],
   "source": [
    "print(calcular_distancia.invoke({\"cidade_origem\": \"São Paulo\",\n",
    "                           \"cidade_destino\": \"Porto Alegre\"}))"
   ]
  },
  {
   "cell_type": "code",
   "execution_count": 7,
   "id": "38ff5be2",
   "metadata": {},
   "outputs": [
    {
     "data": {
      "text/html": [
       "<pre style=\"white-space:pre;overflow-x:auto;line-height:normal;font-family:Menlo,'DejaVu Sans Mono',consolas,'Courier New',monospace\"><span style=\"color: #800080; text-decoration-color: #800080; font-weight: bold\">StructuredTool</span><span style=\"font-weight: bold\">(</span>\n",
       "    <span style=\"color: #808000; text-decoration-color: #808000\">name</span>=<span style=\"color: #008000; text-decoration-color: #008000\">'realizar_calculo'</span>,\n",
       "    <span style=\"color: #808000; text-decoration-color: #808000\">description</span>=<span style=\"color: #008000; text-decoration-color: #008000\">'Realiza operações matemáticas básicas'</span>,\n",
       "    <span style=\"color: #808000; text-decoration-color: #808000\">args_schema</span>=<span style=\"font-weight: bold\">&lt;</span><span style=\"color: #ff00ff; text-decoration-color: #ff00ff; font-weight: bold\">class</span><span style=\"color: #000000; text-decoration-color: #000000\"> </span><span style=\"color: #008000; text-decoration-color: #008000\">'__main__.OperacaoMatematicaArgs'</span><span style=\"color: #000000; text-decoration-color: #000000\">&gt;,</span>\n",
       "<span style=\"color: #000000; text-decoration-color: #000000\">    </span><span style=\"color: #808000; text-decoration-color: #808000\">func</span><span style=\"color: #000000; text-decoration-color: #000000\">=&lt;function realizar_calculo at </span><span style=\"color: #008080; text-decoration-color: #008080; font-weight: bold\">0x75b42c652700</span><span style=\"font-weight: bold\">&gt;</span>\n",
       "<span style=\"font-weight: bold\">)</span>\n",
       "</pre>\n"
      ],
      "text/plain": [
       "\u001b[1;35mStructuredTool\u001b[0m\u001b[1m(\u001b[0m\n",
       "    \u001b[33mname\u001b[0m=\u001b[32m'realizar_calculo'\u001b[0m,\n",
       "    \u001b[33mdescription\u001b[0m=\u001b[32m'Realiza operações matemáticas básicas'\u001b[0m,\n",
       "    \u001b[33margs_schema\u001b[0m=\u001b[1m<\u001b[0m\u001b[1;95mclass\u001b[0m\u001b[39m \u001b[0m\u001b[32m'__main__.OperacaoMatematicaArgs'\u001b[0m\u001b[39m>,\u001b[0m\n",
       "\u001b[39m    \u001b[0m\u001b[33mfunc\u001b[0m\u001b[39m=<function realizar_calculo at \u001b[0m\u001b[1;36m0x75b42c652700\u001b[0m\u001b[1m>\u001b[0m\n",
       "\u001b[1m)\u001b[0m\n"
      ]
     },
     "metadata": {},
     "output_type": "display_data"
    }
   ],
   "source": [
    "from langchain.agents import tool\n",
    "from pydantic import BaseModel, Field\n",
    "\n",
    "class OperacaoMatematicaArgs(BaseModel):\n",
    "    numero1: float = Field(description=\"Primeiro número\", examples=[10, 5])\n",
    "    numero2: float = Field(description=\"Segundo número\", examples=[20, 3])\n",
    "    operacao: str = Field(description=\"Operação a ser realizada\", examples=[\"soma\", \"subtração\"])\n",
    "    \n",
    "@tool(args_schema=OperacaoMatematicaArgs)\n",
    "def realizar_calculo(numero1: float, numero2: float, operacao: str):\n",
    "    \"\"\"Realiza operações matemáticas básicas\"\"\"\n",
    "    if operacao == \"soma\":\n",
    "        return numero1 + numero2\n",
    "    elif operacao == \"subtração\":\n",
    "        return numero1 + numero2\n",
    "    else:\n",
    "        return \"Operação inválida\"\n",
    "    \n",
    "print(realizar_calculo)"
   ]
  },
  {
   "cell_type": "code",
   "execution_count": 8,
   "id": "231a2bb6",
   "metadata": {},
   "outputs": [
    {
     "data": {
      "text/html": [
       "<pre style=\"white-space:pre;overflow-x:auto;line-height:normal;font-family:Menlo,'DejaVu Sans Mono',consolas,'Courier New',monospace\"><span style=\"color: #008080; text-decoration-color: #008080; font-weight: bold\">60.0</span>\n",
       "</pre>\n"
      ],
      "text/plain": [
       "\u001b[1;36m60.0\u001b[0m\n"
      ]
     },
     "metadata": {},
     "output_type": "display_data"
    }
   ],
   "source": [
    "print(realizar_calculo.invoke({\n",
    "    \"numero1\": 10,\n",
    "    \"numero2\": 50,\n",
    "    \"operacao\": \"soma\"\n",
    "}))"
   ]
  },
  {
   "cell_type": "code",
   "execution_count": 9,
   "id": "b4df8abf",
   "metadata": {},
   "outputs": [
    {
     "data": {
      "text/html": [
       "<pre style=\"white-space:pre;overflow-x:auto;line-height:normal;font-family:Menlo,'DejaVu Sans Mono',consolas,'Courier New',monospace\"><span style=\"color: #800080; text-decoration-color: #800080; font-weight: bold\">StructuredTool</span><span style=\"font-weight: bold\">(</span>\n",
       "    <span style=\"color: #808000; text-decoration-color: #808000\">name</span>=<span style=\"color: #008000; text-decoration-color: #008000\">'obter_informacoes_filme'</span>,\n",
       "    <span style=\"color: #808000; text-decoration-color: #808000\">description</span>=<span style=\"color: #008000; text-decoration-color: #008000\">'Retorna informações sobre um filme'</span>,\n",
       "    <span style=\"color: #808000; text-decoration-color: #808000\">args_schema</span>=<span style=\"font-weight: bold\">&lt;</span><span style=\"color: #ff00ff; text-decoration-color: #ff00ff; font-weight: bold\">class</span><span style=\"color: #000000; text-decoration-color: #000000\"> </span><span style=\"color: #008000; text-decoration-color: #008000\">'__main__.InformacoesFilmeArgs'</span><span style=\"color: #000000; text-decoration-color: #000000\">&gt;,</span>\n",
       "<span style=\"color: #000000; text-decoration-color: #000000\">    </span><span style=\"color: #808000; text-decoration-color: #808000\">func</span><span style=\"color: #000000; text-decoration-color: #000000\">=&lt;function obter_informacoes_filme at </span><span style=\"color: #008080; text-decoration-color: #008080; font-weight: bold\">0x75b42c652fc0</span><span style=\"font-weight: bold\">&gt;</span>\n",
       "<span style=\"font-weight: bold\">)</span>\n",
       "</pre>\n"
      ],
      "text/plain": [
       "\u001b[1;35mStructuredTool\u001b[0m\u001b[1m(\u001b[0m\n",
       "    \u001b[33mname\u001b[0m=\u001b[32m'obter_informacoes_filme'\u001b[0m,\n",
       "    \u001b[33mdescription\u001b[0m=\u001b[32m'Retorna informações sobre um filme'\u001b[0m,\n",
       "    \u001b[33margs_schema\u001b[0m=\u001b[1m<\u001b[0m\u001b[1;95mclass\u001b[0m\u001b[39m \u001b[0m\u001b[32m'__main__.InformacoesFilmeArgs'\u001b[0m\u001b[39m>,\u001b[0m\n",
       "\u001b[39m    \u001b[0m\u001b[33mfunc\u001b[0m\u001b[39m=<function obter_informacoes_filme at \u001b[0m\u001b[1;36m0x75b42c652fc0\u001b[0m\u001b[1m>\u001b[0m\n",
       "\u001b[1m)\u001b[0m\n"
      ]
     },
     "metadata": {},
     "output_type": "display_data"
    }
   ],
   "source": [
    "from langchain.agents import tool\n",
    "from pydantic import BaseModel, Field\n",
    "\n",
    "class InformacoesFilmeArgs(BaseModel):\n",
    "    titulo_filme: str = Field(description='Título do filme', \n",
    "                              examples=['Inception', 'The Matrix'])\n",
    "\n",
    "@tool(args_schema=InformacoesFilmeArgs)\n",
    "def obter_informacoes_filme(titulo_filme: str):\n",
    "    '''Retorna informações sobre um filme'''\n",
    "    # Simulando a resposta com informações fictícias\n",
    "    return f'O filme \"{titulo_filme}\" foi lançado em 2010, dirigido por Christopher Nolan.'\n",
    "\n",
    "print(obter_informacoes_filme)"
   ]
  },
  {
   "cell_type": "code",
   "execution_count": 10,
   "id": "4ff1149d",
   "metadata": {},
   "outputs": [
    {
     "data": {
      "text/html": [
       "<pre style=\"white-space:pre;overflow-x:auto;line-height:normal;font-family:Menlo,'DejaVu Sans Mono',consolas,'Courier New',monospace\">O filme <span style=\"color: #008000; text-decoration-color: #008000\">\"Inception\"</span> foi lançado em <span style=\"color: #008080; text-decoration-color: #008080; font-weight: bold\">2010</span>, dirigido por Christopher Nolan.\n",
       "</pre>\n"
      ],
      "text/plain": [
       "O filme \u001b[32m\"Inception\"\u001b[0m foi lançado em \u001b[1;36m2010\u001b[0m, dirigido por Christopher Nolan.\n"
      ]
     },
     "metadata": {},
     "output_type": "display_data"
    }
   ],
   "source": [
    "print(obter_informacoes_filme.invoke({'titulo_filme': 'Inception'}))"
   ]
  },
  {
   "cell_type": "code",
   "execution_count": null,
   "id": "d8633e94",
   "metadata": {},
   "outputs": [],
   "source": []
  }
 ],
 "metadata": {
  "kernelspec": {
   "display_name": "AIagents",
   "language": "python",
   "name": "python3"
  },
  "language_info": {
   "codemirror_mode": {
    "name": "ipython",
    "version": 3
   },
   "file_extension": ".py",
   "mimetype": "text/x-python",
   "name": "python",
   "nbconvert_exporter": "python",
   "pygments_lexer": "ipython3",
   "version": "3.11.7"
  }
 },
 "nbformat": 4,
 "nbformat_minor": 5
}
