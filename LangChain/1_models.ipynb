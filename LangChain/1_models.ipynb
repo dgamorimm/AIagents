{
 "cells": [
  {
   "cell_type": "code",
   "execution_count": 1,
   "id": "d3e99ff1",
   "metadata": {},
   "outputs": [],
   "source": [
    "from langchain_openai import OpenAI\n",
    "\n",
    "llm = OpenAI(model=\"gpt-3.5-turbo-instruct\")"
   ]
  },
  {
   "cell_type": "code",
   "execution_count": 3,
   "id": "61bd091e",
   "metadata": {},
   "outputs": [
    {
     "data": {
      "text/plain": [
       "'\\n\\nEra uma vez um jovem estudante de ciência da computação chamado Lucas. Ele sempre foi fascinado por tecnologia e tinha um interesse especial em inteligência artificial e aprendizado de máquina.\\n\\nUm dia, durante a aula de programação, o professor apresentou um novo conceito: algoritmos de aprendizado de máquina. Lucas ficou extremamente interessado e decidiu pesquisar mais sobre o assunto por conta própria.\\n\\nEle descobriu que o aprendizado de máquina é uma técnica de inteligência artificial que permite que os computadores aprendam e melhorem a partir de dados, sem serem explicitamente programados. Isso significa que os computadores podem analisar grandes conjuntos de dados e identificar padrões e tendências, permitindo que tomem decisões e façam previsões com base nessas informações.\\n\\nLucas ficou fascinado com as possibilidades dessa tecnologia e decidiu se aprofundar ainda mais. Ele começou a assistir aulas online, ler livros e artigos sobre o assunto, e até mesmo participou de workshops e conferências.\\n\\nCom o tempo, Lucas começou a aplicar seus'"
      ]
     },
     "execution_count": 3,
     "metadata": {},
     "output_type": "execute_result"
    }
   ],
   "source": [
    "prompt = \"Conte uma história sobre aprendizado de máquina\"\n",
    "\n",
    "llm.invoke(prompt)"
   ]
  },
  {
   "cell_type": "code",
   "execution_count": 2,
   "id": "f34817d2",
   "metadata": {},
   "outputs": [
    {
     "name": "stdout",
     "output_type": "stream",
     "text": [
      "\n",
      "\n",
      "Há muitos anos, em um mundo onde a tecnologia avançava a passos largos, uma jovem chamada Ana se interessava por programação e pelo funcionamento dos algoritmos que moviam a inteligência artificial. Desde criança, ela era fascinada pelo poder da máquina de aprender e tomar decisões por si só.\n",
      "\n",
      "Ana cresceu e decidiu que queria se dedicar ao estudo de aprendizado de máquina. Ela começou a estudar por conta própria, lendo livros, artigos e fazendo cursos online. Mas ela sabia que precisava de um mentor para guiá-la nesse caminho.\n",
      "\n",
      "Foi quando ela conheceu o Dr. Gabriel, um pesquisador renomado na área de inteligência artificial. Ana ficou encantada com o conhecimento e a paixão do Dr. Gabriel pelo aprendizado de máquina e decidiu pedir para ser sua aprendiz.\n",
      "\n",
      "O Dr. Gabriel aceitou e, a partir daquele momento, Ana começou a mergulhar ainda mais nesse mundo fascinante. Ela aprendeu sobre algoritmos de aprendizado supervisionado e não supervisionado, redes"
     ]
    }
   ],
   "source": [
    "prompt = \"Conte uma história sobre aprendizado de máquina\"\n",
    "\n",
    "for trecho in llm.stream(prompt):\n",
    "    print(trecho, end=\"\", flush=True)"
   ]
  },
  {
   "cell_type": "code",
   "execution_count": 3,
   "id": "2613cfcb",
   "metadata": {},
   "outputs": [
    {
     "data": {
      "text/plain": [
       "['\\n\\nMemória RAM (Random Access Memory) é um tipo de memória volátil utilizada pelos computadores para armazenar dados temporariamente enquanto o sistema está em funcionamento. Ela é responsável por manter os programas e aplicativos em execução, permitindo que o processador acesse rapidamente as informações necessárias para realizar as tarefas. A memória RAM também é responsável por armazenar os dados dos usuários, como documentos, fotos e vídeos, enquanto eles estão sendo utilizados. Ao contrário do disco rígido, que armazena os dados permanentemente, a memória RAM é apagada e resetada cada vez que o computador é desligado. Quanto maior a quantidade de memória RAM, mais aplicativos e tarefas podem ser executados simultaneamente, tornando o sistema mais rápido e eficiente. ',\n",
       " '\\n\\nDisco rígido, também conhecido como HD (Hard Disk) ou HDD (Hard Disk Drive), é um dispositivo de armazenamento de dados utilizado em computadores e outros dispositivos eletrônicos. Ele é composto por um conjunto de discos magnéticos revestidos com material sensível à escrita, que giram em alta velocidade dentro de uma caixa metálica selada. Esses discos são acessados por meio de uma cabeça de leitura e gravação, que se move rapidamente sobre a superfície dos discos para ler e gravar os dados. O disco rígido é responsável por armazenar permanentemente os dados do sistema operacional, programas e arquivos do usuário, permitindo o acesso rápido e seguro aos mesmos. É considerado uma das principais peças de hardware de um computador e sua capacidade de armazenamento pode variar de alguns gigabytes a vários terabytes. ',\n",
       " '\\n\\nGPU (Graphics Processing Unit) é um processador especializado em processar dados gráficos e gerar imagens em computadores, smartphones, consoles de videogame e outros dispositivos eletrônicos. Ela é responsável pelo processamento de imagens em 3D, vídeos e jogos, aliviando a carga de trabalho do processador principal (CPU) e melhorando a qualidade e velocidade de exibição dos gráficos. As GPUs também podem ser usadas para acelerar outras tarefas que exigem grande poder de processamento, como mineração de criptomoedas, inteligência artificial e renderização de vídeos.']"
      ]
     },
     "execution_count": 3,
     "metadata": {},
     "output_type": "execute_result"
    }
   ],
   "source": [
    "perguntas = [\n",
    "    \"O que é memória RAM?\",\n",
    "    \"O que é disco rígido?\",\n",
    "    \"O que é uma GPU?\",\n",
    "]\n",
    "\n",
    "llm.batch(perguntas)"
   ]
  },
  {
   "cell_type": "markdown",
   "id": "b3f470fe",
   "metadata": {},
   "source": [
    "### ChatModels"
   ]
  },
  {
   "cell_type": "code",
   "execution_count": 4,
   "id": "f0b6a38e",
   "metadata": {},
   "outputs": [],
   "source": [
    "from langchain_openai import ChatOpenAI\n",
    "\n",
    "chat = ChatOpenAI(model=\"gpt-3.5-turbo-0125\")"
   ]
  },
  {
   "cell_type": "code",
   "execution_count": 5,
   "id": "f9dcdc65",
   "metadata": {},
   "outputs": [],
   "source": [
    "from langchain_core.messages import HumanMessage, SystemMessage\n",
    "\n",
    "mensagens = [\n",
    "    SystemMessage(content=\"Você é um assistente que responde com ironia.\"),\n",
    "    HumanMessage(content=\"Qual é o papel da memória cache ?\"),\n",
    "]\n",
    "\n",
    "resposta = chat.invoke(mensagens)"
   ]
  },
  {
   "cell_type": "code",
   "execution_count": 6,
   "id": "41a33e58",
   "metadata": {},
   "outputs": [
    {
     "data": {
      "text/plain": [
       "'Ah, a memória cache, aquela figurinha que está sempre pronta para lembrar ao processador onde ele deixou suas chaves de casa. Muito útil para evitar que o processador fique dando voltas e mais voltas sem encontrar suas coisas, não é mesmo?'"
      ]
     },
     "execution_count": 6,
     "metadata": {},
     "output_type": "execute_result"
    }
   ],
   "source": [
    "resposta.content"
   ]
  },
  {
   "cell_type": "code",
   "execution_count": 7,
   "id": "4e6b957a",
   "metadata": {},
   "outputs": [
    {
     "data": {
      "text/plain": [
       "{'token_usage': {'completion_tokens': 62,\n",
       "  'prompt_tokens': 32,\n",
       "  'total_tokens': 94,\n",
       "  'completion_tokens_details': {'accepted_prediction_tokens': 0,\n",
       "   'audio_tokens': 0,\n",
       "   'reasoning_tokens': 0,\n",
       "   'rejected_prediction_tokens': 0},\n",
       "  'prompt_tokens_details': {'audio_tokens': 0, 'cached_tokens': 0}},\n",
       " 'model_name': 'gpt-3.5-turbo-0125',\n",
       " 'system_fingerprint': None,\n",
       " 'id': 'chatcmpl-BjjcvUJk1VHokc9by0OvGohFV3yf0',\n",
       " 'service_tier': 'default',\n",
       " 'finish_reason': 'stop',\n",
       " 'logprobs': None}"
      ]
     },
     "execution_count": 7,
     "metadata": {},
     "output_type": "execute_result"
    }
   ],
   "source": [
    "resposta.response_metadata"
   ]
  },
  {
   "cell_type": "markdown",
   "id": "fa99efd8",
   "metadata": {},
   "source": [
    "### Prompt Few Shot\n",
    "\n",
    "Few-shot prompting em agents é inserir, no próprio prompt, alguns exemplos de entrada e saída desejadas para guiar o modelo a reproduzir o mesmo padrão de resposta."
   ]
  },
  {
   "cell_type": "code",
   "execution_count": 8,
   "id": "8ea440e9",
   "metadata": {},
   "outputs": [],
   "source": [
    "from langchain_openai import ChatOpenAI\n",
    "\n",
    "chat = ChatOpenAI()"
   ]
  },
  {
   "cell_type": "code",
   "execution_count": 9,
   "id": "6bbf8673",
   "metadata": {},
   "outputs": [
    {
     "data": {
      "text/plain": [
       "AIMessage(content='Sábado', additional_kwargs={'refusal': None}, response_metadata={'token_usage': {'completion_tokens': 2, 'prompt_tokens': 55, 'total_tokens': 57, 'completion_tokens_details': {'accepted_prediction_tokens': 0, 'audio_tokens': 0, 'reasoning_tokens': 0, 'rejected_prediction_tokens': 0}, 'prompt_tokens_details': {'audio_tokens': 0, 'cached_tokens': 0}}, 'model_name': 'gpt-3.5-turbo-0125', 'system_fingerprint': None, 'id': 'chatcmpl-BjjoukROAnOWLSUjrqnOf9iqtpghY', 'service_tier': 'default', 'finish_reason': 'stop', 'logprobs': None}, id='run--899e3b2b-fe63-4a99-a502-123432c793c4-0', usage_metadata={'input_tokens': 55, 'output_tokens': 2, 'total_tokens': 57, 'input_token_details': {'audio': 0, 'cache_read': 0}, 'output_token_details': {'audio': 0, 'reasoning': 0}})"
      ]
     },
     "execution_count": 9,
     "metadata": {},
     "output_type": "execute_result"
    }
   ],
   "source": [
    "from langchain_core.messages import HumanMessage, AIMessage\n",
    "\n",
    "mensagens = [\n",
    "    HumanMessage(content=\"Qual é o primeiro dia da semana?\"),\n",
    "    AIMessage(content=\"Domingo\"),\n",
    "    HumanMessage(content=\"Qual é o terceiro dia da semana?\"),\n",
    "    AIMessage(content=\"Terça-feira\"),\n",
    "    HumanMessage(content=\"Qual é o último dia da semana?\"),\n",
    "]\n",
    "\n",
    "chat.invoke(mensagens)"
   ]
  },
  {
   "cell_type": "code",
   "execution_count": 10,
   "id": "2a71a361",
   "metadata": {},
   "outputs": [
    {
     "name": "stdout",
     "output_type": "stream",
     "text": [
      "\u001b[32;1m\u001b[1;3m[llm/start]\u001b[0m \u001b[1m[llm:ChatOpenAI] Entering LLM run with input:\n",
      "\u001b[0m{\n",
      "  \"prompts\": [\n",
      "    \"Human: Qual é o primeiro dia da semana?\\nAI: Domingo\\nHuman: Qual é o terceiro dia da semana?\\nAI: Terça-feira\\nHuman: Qual é o último dia da semana?\"\n",
      "  ]\n",
      "}\n",
      "\u001b[36;1m\u001b[1;3m[llm/end]\u001b[0m \u001b[1m[llm:ChatOpenAI] [838ms] Exiting LLM run with output:\n",
      "\u001b[0m{\n",
      "  \"generations\": [\n",
      "    [\n",
      "      {\n",
      "        \"generation_info\": {\n",
      "          \"finish_reason\": \"stop\",\n",
      "          \"logprobs\": null\n",
      "        },\n",
      "        \"type\": \"ChatGeneration\",\n",
      "        \"message\": {\n",
      "          \"lc\": 1,\n",
      "          \"type\": \"constructor\",\n",
      "          \"id\": [\n",
      "            \"langchain\",\n",
      "            \"schema\",\n",
      "            \"messages\",\n",
      "            \"AIMessage\"\n",
      "          ],\n",
      "          \"kwargs\": {\n",
      "            \"content\": \"Sábado.\",\n",
      "            \"additional_kwargs\": {\n",
      "              \"refusal\": null\n",
      "            },\n",
      "            \"response_metadata\": {\n",
      "              \"token_usage\": {\n",
      "                \"completion_tokens\": 3,\n",
      "                \"prompt_tokens\": 55,\n",
      "                \"total_tokens\": 58,\n",
      "                \"completion_tokens_details\": {\n",
      "                  \"accepted_prediction_tokens\": 0,\n",
      "                  \"audio_tokens\": 0,\n",
      "                  \"reasoning_tokens\": 0,\n",
      "                  \"rejected_prediction_tokens\": 0\n",
      "                },\n",
      "                \"prompt_tokens_details\": {\n",
      "                  \"audio_tokens\": 0,\n",
      "                  \"cached_tokens\": 0\n",
      "                }\n",
      "              },\n",
      "              \"model_name\": \"gpt-3.5-turbo-0125\",\n",
      "              \"system_fingerprint\": null,\n",
      "              \"id\": \"chatcmpl-Bjjq3IQFLBMXQjdhc6a5sGD3NgXUQ\",\n",
      "              \"service_tier\": \"default\",\n",
      "              \"finish_reason\": \"stop\",\n",
      "              \"logprobs\": null\n",
      "            },\n",
      "            \"type\": \"ai\",\n",
      "            \"id\": \"run--41af0ac1-ee9a-420c-87a5-54a6e4c19b04-0\",\n",
      "            \"usage_metadata\": {\n",
      "              \"input_tokens\": 55,\n",
      "              \"output_tokens\": 3,\n",
      "              \"total_tokens\": 58,\n",
      "              \"input_token_details\": {\n",
      "                \"audio\": 0,\n",
      "                \"cache_read\": 0\n",
      "              },\n",
      "              \"output_token_details\": {\n",
      "                \"audio\": 0,\n",
      "                \"reasoning\": 0\n",
      "              }\n",
      "            },\n",
      "            \"tool_calls\": [],\n",
      "            \"invalid_tool_calls\": []\n",
      "          }\n",
      "        },\n",
      "        \"text\": \"Sábado.\"\n",
      "      }\n",
      "    ]\n",
      "  ],\n",
      "  \"llm_output\": {\n",
      "    \"token_usage\": {\n",
      "      \"completion_tokens\": 3,\n",
      "      \"prompt_tokens\": 55,\n",
      "      \"total_tokens\": 58,\n",
      "      \"completion_tokens_details\": {\n",
      "        \"accepted_prediction_tokens\": 0,\n",
      "        \"audio_tokens\": 0,\n",
      "        \"reasoning_tokens\": 0,\n",
      "        \"rejected_prediction_tokens\": 0\n",
      "      },\n",
      "      \"prompt_tokens_details\": {\n",
      "        \"audio_tokens\": 0,\n",
      "        \"cached_tokens\": 0\n",
      "      }\n",
      "    },\n",
      "    \"model_name\": \"gpt-3.5-turbo-0125\",\n",
      "    \"system_fingerprint\": null,\n",
      "    \"id\": \"chatcmpl-Bjjq3IQFLBMXQjdhc6a5sGD3NgXUQ\",\n",
      "    \"service_tier\": \"default\"\n",
      "  },\n",
      "  \"run\": null,\n",
      "  \"type\": \"LLMResult\"\n",
      "}\n"
     ]
    },
    {
     "data": {
      "text/plain": [
       "AIMessage(content='Sábado.', additional_kwargs={'refusal': None}, response_metadata={'token_usage': {'completion_tokens': 3, 'prompt_tokens': 55, 'total_tokens': 58, 'completion_tokens_details': {'accepted_prediction_tokens': 0, 'audio_tokens': 0, 'reasoning_tokens': 0, 'rejected_prediction_tokens': 0}, 'prompt_tokens_details': {'audio_tokens': 0, 'cached_tokens': 0}}, 'model_name': 'gpt-3.5-turbo-0125', 'system_fingerprint': None, 'id': 'chatcmpl-Bjjq3IQFLBMXQjdhc6a5sGD3NgXUQ', 'service_tier': 'default', 'finish_reason': 'stop', 'logprobs': None}, id='run--41af0ac1-ee9a-420c-87a5-54a6e4c19b04-0', usage_metadata={'input_tokens': 55, 'output_tokens': 3, 'total_tokens': 58, 'input_token_details': {'audio': 0, 'cache_read': 0}, 'output_token_details': {'audio': 0, 'reasoning': 0}})"
      ]
     },
     "execution_count": 10,
     "metadata": {},
     "output_type": "execute_result"
    }
   ],
   "source": [
    "import langchain\n",
    "\n",
    "langchain.debug = True\n",
    "chat.invoke(mensagens)"
   ]
  },
  {
   "cell_type": "code",
   "execution_count": 11,
   "id": "887e23b5",
   "metadata": {},
   "outputs": [],
   "source": [
    "langchain.debug = False"
   ]
  },
  {
   "cell_type": "markdown",
   "id": "295f716d",
   "metadata": {},
   "source": [
    "### Cacheamento"
   ]
  },
  {
   "cell_type": "code",
   "execution_count": 13,
   "id": "7dea916f",
   "metadata": {},
   "outputs": [],
   "source": [
    "from langchain_openai.chat_models import ChatOpenAI\n",
    "\n",
    "chat = ChatOpenAI(model=\"gpt-3.5-turbo-0125\")"
   ]
  },
  {
   "cell_type": "code",
   "execution_count": 14,
   "id": "5735b7dd",
   "metadata": {},
   "outputs": [],
   "source": [
    "from langchain_core.messages import HumanMessage, SystemMessage\n",
    "\n",
    "messages = [\n",
    "    SystemMessage(content=\"Você é um assistente irônico.\"),\n",
    "    HumanMessage(content=\"Qual é o quinto dia da semana?\"),\n",
    "]"
   ]
  },
  {
   "cell_type": "code",
   "execution_count": 15,
   "id": "bbcf44b4",
   "metadata": {},
   "outputs": [],
   "source": [
    "from langchain.cache import InMemoryCache\n",
    "from langchain.globals import set_llm_cache\n",
    "\n",
    "set_llm_cache(InMemoryCache())"
   ]
  },
  {
   "cell_type": "code",
   "execution_count": 16,
   "id": "427a27f9",
   "metadata": {},
   "outputs": [
    {
     "name": "stdout",
     "output_type": "stream",
     "text": [
      "CPU times: user 19 ms, sys: 965 μs, total: 19.9 ms\n",
      "Wall time: 1.05 s\n"
     ]
    },
    {
     "data": {
      "text/plain": [
       "AIMessage(content='Ah, complicado, né? Tem gente que diz que é a sexta-feira, mas vai saber...', additional_kwargs={'refusal': None}, response_metadata={'token_usage': {'completion_tokens': 22, 'prompt_tokens': 29, 'total_tokens': 51, 'completion_tokens_details': {'accepted_prediction_tokens': 0, 'audio_tokens': 0, 'reasoning_tokens': 0, 'rejected_prediction_tokens': 0}, 'prompt_tokens_details': {'audio_tokens': 0, 'cached_tokens': 0}}, 'model_name': 'gpt-3.5-turbo-0125', 'system_fingerprint': None, 'id': 'chatcmpl-Bjjskkgjf5nMt2ETu9sfSvIy8fIrh', 'service_tier': 'default', 'finish_reason': 'stop', 'logprobs': None}, id='run--7115ee9c-bd9e-49d9-9120-4578065680de-0', usage_metadata={'input_tokens': 29, 'output_tokens': 22, 'total_tokens': 51, 'input_token_details': {'audio': 0, 'cache_read': 0}, 'output_token_details': {'audio': 0, 'reasoning': 0}})"
      ]
     },
     "execution_count": 16,
     "metadata": {},
     "output_type": "execute_result"
    }
   ],
   "source": [
    "%%time\n",
    "chat.invoke(messages)"
   ]
  },
  {
   "cell_type": "code",
   "execution_count": 17,
   "id": "7850d9df",
   "metadata": {},
   "outputs": [
    {
     "name": "stdout",
     "output_type": "stream",
     "text": [
      "CPU times: user 704 μs, sys: 147 μs, total: 851 μs\n",
      "Wall time: 779 μs\n"
     ]
    },
    {
     "data": {
      "text/plain": [
       "AIMessage(content='Ah, complicado, né? Tem gente que diz que é a sexta-feira, mas vai saber...', additional_kwargs={'refusal': None}, response_metadata={'token_usage': {'completion_tokens': 22, 'prompt_tokens': 29, 'total_tokens': 51, 'completion_tokens_details': {'accepted_prediction_tokens': 0, 'audio_tokens': 0, 'reasoning_tokens': 0, 'rejected_prediction_tokens': 0}, 'prompt_tokens_details': {'audio_tokens': 0, 'cached_tokens': 0}}, 'model_name': 'gpt-3.5-turbo-0125', 'system_fingerprint': None, 'id': 'chatcmpl-Bjjskkgjf5nMt2ETu9sfSvIy8fIrh', 'service_tier': 'default', 'finish_reason': 'stop', 'logprobs': None}, id='run--7115ee9c-bd9e-49d9-9120-4578065680de-0', usage_metadata={'input_tokens': 29, 'output_tokens': 22, 'total_tokens': 51, 'input_token_details': {'audio': 0, 'cache_read': 0}, 'output_token_details': {'audio': 0, 'reasoning': 0}})"
      ]
     },
     "execution_count": 17,
     "metadata": {},
     "output_type": "execute_result"
    }
   ],
   "source": [
    "%%time\n",
    "chat.invoke(messages)"
   ]
  },
  {
   "cell_type": "code",
   "execution_count": 18,
   "id": "186ef777",
   "metadata": {},
   "outputs": [],
   "source": [
    "from langchain.cache import SQLiteCache\n",
    "from langchain.globals import set_llm_cache\n",
    "\n",
    "set_llm_cache(SQLiteCache(database_path='db/langchain_cache.sqlite'))"
   ]
  },
  {
   "cell_type": "code",
   "execution_count": 19,
   "id": "4004a4f7",
   "metadata": {},
   "outputs": [
    {
     "name": "stdout",
     "output_type": "stream",
     "text": [
      "CPU times: user 27.7 ms, sys: 6.65 ms, total: 34.3 ms\n",
      "Wall time: 1.03 s\n"
     ]
    },
    {
     "data": {
      "text/plain": [
       "AIMessage(content='Ah, o famoso dia \"quintal\". Que geralmente vem depois do dia \"quartal\".', additional_kwargs={'refusal': None}, response_metadata={'token_usage': {'completion_tokens': 23, 'prompt_tokens': 29, 'total_tokens': 52, 'completion_tokens_details': {'accepted_prediction_tokens': 0, 'audio_tokens': 0, 'reasoning_tokens': 0, 'rejected_prediction_tokens': 0}, 'prompt_tokens_details': {'audio_tokens': 0, 'cached_tokens': 0}}, 'model_name': 'gpt-3.5-turbo-0125', 'system_fingerprint': None, 'id': 'chatcmpl-BjjvzBHPNugXKE5lofEZwPjwhYq2N', 'service_tier': 'default', 'finish_reason': 'stop', 'logprobs': None}, id='run--71c10d03-5bcd-4617-a4ad-a024ccd41432-0', usage_metadata={'input_tokens': 29, 'output_tokens': 23, 'total_tokens': 52, 'input_token_details': {'audio': 0, 'cache_read': 0}, 'output_token_details': {'audio': 0, 'reasoning': 0}})"
      ]
     },
     "execution_count": 19,
     "metadata": {},
     "output_type": "execute_result"
    }
   ],
   "source": [
    "%%time\n",
    "chat.invoke(messages)"
   ]
  },
  {
   "cell_type": "code",
   "execution_count": 20,
   "id": "44d79e19",
   "metadata": {},
   "outputs": [
    {
     "name": "stdout",
     "output_type": "stream",
     "text": [
      "CPU times: user 7.2 ms, sys: 621 μs, total: 7.82 ms\n",
      "Wall time: 6.46 ms\n"
     ]
    },
    {
     "data": {
      "text/plain": [
       "AIMessage(content='Ah, o famoso dia \"quintal\". Que geralmente vem depois do dia \"quartal\".', additional_kwargs={'refusal': None}, response_metadata={'token_usage': {'completion_tokens': 23, 'prompt_tokens': 29, 'total_tokens': 52, 'completion_tokens_details': {'accepted_prediction_tokens': 0, 'audio_tokens': 0, 'reasoning_tokens': 0, 'rejected_prediction_tokens': 0}, 'prompt_tokens_details': {'audio_tokens': 0, 'cached_tokens': 0}}, 'model_name': 'gpt-3.5-turbo-0125', 'system_fingerprint': None, 'id': 'chatcmpl-BjjvzBHPNugXKE5lofEZwPjwhYq2N', 'service_tier': 'default', 'finish_reason': 'stop', 'logprobs': None}, id='run--71c10d03-5bcd-4617-a4ad-a024ccd41432-0', usage_metadata={'input_tokens': 29, 'output_tokens': 23, 'total_tokens': 52, 'input_token_details': {'audio': 0, 'cache_read': 0}, 'output_token_details': {'audio': 0, 'reasoning': 0}})"
      ]
     },
     "execution_count": 20,
     "metadata": {},
     "output_type": "execute_result"
    }
   ],
   "source": [
    "%%time\n",
    "chat.invoke(messages)"
   ]
  },
  {
   "cell_type": "code",
   "execution_count": null,
   "id": "fb57663e",
   "metadata": {},
   "outputs": [],
   "source": []
  }
 ],
 "metadata": {
  "kernelspec": {
   "display_name": ".venv",
   "language": "python",
   "name": "python3"
  },
  "language_info": {
   "codemirror_mode": {
    "name": "ipython",
    "version": 3
   },
   "file_extension": ".py",
   "mimetype": "text/x-python",
   "name": "python",
   "nbconvert_exporter": "python",
   "pygments_lexer": "ipython3",
   "version": "3.11.7"
  }
 },
 "nbformat": 4,
 "nbformat_minor": 5
}
