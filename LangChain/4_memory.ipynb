{
 "cells": [
  {
   "cell_type": "code",
   "execution_count": 19,
   "id": "59f16803",
   "metadata": {},
   "outputs": [],
   "source": [
    "from langchain.memory.buffer import ConversationBufferMemory\n",
    "\n",
    "memory = ConversationBufferMemory(return_messages=True)\n",
    "memory.save_context(\n",
    "    {\"input\": \"Olá\"},  # HumanMessage\n",
    "    {\"output\": \"Como vai?\"} # AIMessage\n",
    ")\n"
   ]
  },
  {
   "cell_type": "code",
   "execution_count": 22,
   "id": "6f132977",
   "metadata": {},
   "outputs": [
    {
     "data": {
      "text/plain": [
       "{'history': [HumanMessage(content='Olá', additional_kwargs={}, response_metadata={}),\n",
       "  AIMessage(content='Como vai?', additional_kwargs={}, response_metadata={})]}"
      ]
     },
     "execution_count": 22,
     "metadata": {},
     "output_type": "execute_result"
    }
   ],
   "source": [
    "memory.load_memory_variables({})"
   ]
  },
  {
   "cell_type": "code",
   "execution_count": 27,
   "id": "a6f9c601",
   "metadata": {},
   "outputs": [],
   "source": [
    "def get_history(session_id: str):\n",
    "    return memory.chat_memory\n",
    "\n",
    "from langchain_openai.chat_models import ChatOpenAI\n",
    "from langchain_core.runnables.history import RunnableWithMessageHistory\n",
    "\n",
    "chat = ChatOpenAI()\n",
    "memory = ConversationBufferMemory()\n",
    "runnable = RunnableWithMessageHistory(\n",
    "    runnable=chat,\n",
    "    memory=memory,\n",
    "    get_session_history=get_history\n",
    ")"
   ]
  },
  {
   "cell_type": "code",
   "execution_count": null,
   "id": "810eef9c",
   "metadata": {},
   "outputs": [],
   "source": [
    "conversation = runnable.invoke(\n",
    "    \"Olá!\",\n",
    "    config={\"configurable\": {\"session_id\": \"minha_sessao\"}}\n",
    ")"
   ]
  },
  {
   "cell_type": "code",
   "execution_count": 30,
   "id": "9ee0adcc",
   "metadata": {},
   "outputs": [
    {
     "data": {
      "text/plain": [
       "'Olá! Como posso te ajudar hoje?'"
      ]
     },
     "execution_count": 30,
     "metadata": {},
     "output_type": "execute_result"
    }
   ],
   "source": [
    "conversation.content"
   ]
  },
  {
   "cell_type": "code",
   "execution_count": 31,
   "id": "db11b9d7",
   "metadata": {},
   "outputs": [],
   "source": [
    "conversation = runnable.invoke(\n",
    "    \"Como vai?\",\n",
    "    config={\"configurable\": {\"session_id\": \"minha_sessao\"}}\n",
    ")"
   ]
  },
  {
   "cell_type": "code",
   "execution_count": 32,
   "id": "a307bbfb",
   "metadata": {},
   "outputs": [
    {
     "data": {
      "text/plain": [
       "'Estou bem, obrigado por perguntar! E você, como está? Posso te ajudar com alguma coisa?'"
      ]
     },
     "execution_count": 32,
     "metadata": {},
     "output_type": "execute_result"
    }
   ],
   "source": [
    "conversation.content"
   ]
  },
  {
   "cell_type": "code",
   "execution_count": 33,
   "id": "c46d738f",
   "metadata": {},
   "outputs": [],
   "source": [
    "conversation = runnable.invoke(\n",
    "    \"O meu nome é Douglas\",\n",
    "    config={\"configurable\": {\"session_id\": \"minha_sessao\"}}\n",
    ")"
   ]
  },
  {
   "cell_type": "code",
   "execution_count": 34,
   "id": "4a53e92f",
   "metadata": {},
   "outputs": [
    {
     "data": {
      "text/plain": [
       "'É um prazer te conhecer, Douglas! Como posso te ajudar hoje?'"
      ]
     },
     "execution_count": 34,
     "metadata": {},
     "output_type": "execute_result"
    }
   ],
   "source": [
    "conversation.content"
   ]
  },
  {
   "cell_type": "code",
   "execution_count": 35,
   "id": "5233cf60",
   "metadata": {},
   "outputs": [],
   "source": [
    "conversation = runnable.invoke(\n",
    "    \"Qual é o meu nome ?\",\n",
    "    config={\"configurable\": {\"session_id\": \"minha_sessao\"}}\n",
    ")"
   ]
  },
  {
   "cell_type": "code",
   "execution_count": 36,
   "id": "012fbf77",
   "metadata": {},
   "outputs": [
    {
     "data": {
      "text/plain": [
       "'Seu nome é Douglas. Como posso te ajudar hoje, Douglas?'"
      ]
     },
     "execution_count": 36,
     "metadata": {},
     "output_type": "execute_result"
    }
   ],
   "source": [
    "conversation.content"
   ]
  },
  {
   "cell_type": "code",
   "execution_count": 12,
   "id": "49cbdf5f",
   "metadata": {},
   "outputs": [],
   "source": [
    "from langchain.memory.token_buffer import ConversationTokenBufferMemory"
   ]
  },
  {
   "cell_type": "code",
   "execution_count": 13,
   "id": "14204af1",
   "metadata": {},
   "outputs": [],
   "source": [
    "from langchain_openai.chat_models import ChatOpenAI\n",
    "from langchain.chains.conversation.base import ConversationChain\n",
    "\n",
    "chat = ChatOpenAI()\n",
    "memory = ConversationTokenBufferMemory(llm=chat, max_token_limit=250)\n",
    "conversation = ConversationChain(\n",
    "    llm=chat,\n",
    "    memory=memory,\n",
    "    verbose=True\n",
    ")"
   ]
  },
  {
   "cell_type": "code",
   "execution_count": 14,
   "id": "6c46170a",
   "metadata": {},
   "outputs": [
    {
     "name": "stdout",
     "output_type": "stream",
     "text": [
      "\n",
      "\n",
      "\u001b[1m> Entering new ConversationChain chain...\u001b[0m\n",
      "Prompt after formatting:\n",
      "\u001b[32;1m\u001b[1;3mThe following is a friendly conversation between a human and an AI. The AI is talkative and provides lots of specific details from its context. If the AI does not know the answer to a question, it truthfully says it does not know.\n",
      "\n",
      "Current conversation:\n",
      "\n",
      "Human: Faça uma poesia de 400 palavras\n",
      "AI:\u001b[0m\n",
      "\n",
      "\u001b[1m> Finished chain.\u001b[0m\n"
     ]
    },
    {
     "data": {
      "text/plain": [
       "'Ah, poesia! Que belo desafio! Vamos lá:\\n\\nNas margens do rio da vida, \\nO sol timidamente se põe,\\nRefletindo cores de esperança,\\nEm seus raios dourados que nascem no horizonte.\\n\\nAs águas tranquilas murmurejam,\\nSegredos antigos e histórias para contar,\\nO vento sussurra melodias suaves,\\nEmbalando os sonhos que se perderam no ar.\\n\\nNa mata densa, os pássaros cantam,\\nSeus cantos ancestrais ecoam na brisa,\\nA lua surge timidamente no céu escuro,\\nPintando o cenário com sua luz alva e precisa.\\n\\nE assim segue a jornada da existência,\\nEntre sombras e clarões de emoção,\\nEm cada verso, em cada estrofe,\\nA poesia encontra sua razão.\\n\\nEspero que tenha gostado! O que mais posso fazer por você?'"
      ]
     },
     "execution_count": 14,
     "metadata": {},
     "output_type": "execute_result"
    }
   ],
   "source": [
    "conversation.predict(input=\"Faça uma poesia de 400 palavras\")"
   ]
  },
  {
   "cell_type": "code",
   "execution_count": 15,
   "id": "20e78af4",
   "metadata": {},
   "outputs": [
    {
     "name": "stdout",
     "output_type": "stream",
     "text": [
      "\n",
      "\n",
      "\u001b[1m> Entering new ConversationChain chain...\u001b[0m\n",
      "Prompt after formatting:\n",
      "\u001b[32;1m\u001b[1;3mThe following is a friendly conversation between a human and an AI. The AI is talkative and provides lots of specific details from its context. If the AI does not know the answer to a question, it truthfully says it does not know.\n",
      "\n",
      "Current conversation:\n",
      "Human: Faça uma poesia de 400 palavras\n",
      "AI: Ah, poesia! Que belo desafio! Vamos lá:\n",
      "\n",
      "Nas margens do rio da vida, \n",
      "O sol timidamente se põe,\n",
      "Refletindo cores de esperança,\n",
      "Em seus raios dourados que nascem no horizonte.\n",
      "\n",
      "As águas tranquilas murmurejam,\n",
      "Segredos antigos e histórias para contar,\n",
      "O vento sussurra melodias suaves,\n",
      "Embalando os sonhos que se perderam no ar.\n",
      "\n",
      "Na mata densa, os pássaros cantam,\n",
      "Seus cantos ancestrais ecoam na brisa,\n",
      "A lua surge timidamente no céu escuro,\n",
      "Pintando o cenário com sua luz alva e precisa.\n",
      "\n",
      "E assim segue a jornada da existência,\n",
      "Entre sombras e clarões de emoção,\n",
      "Em cada verso, em cada estrofe,\n",
      "A poesia encontra sua razão.\n",
      "\n",
      "Espero que tenha gostado! O que mais posso fazer por você?\n",
      "Human: Resuma a poesia anterior\n",
      "AI:\u001b[0m\n",
      "\n",
      "\u001b[1m> Finished chain.\u001b[0m\n"
     ]
    },
    {
     "data": {
      "text/plain": [
       "'Claro! A poesia anterior fala sobre a vida seguindo seu curso, com o sol se pondo nas margens de um rio, as águas murmurando segredos, o vento sussurrando melodias suaves, os pássaros cantando na mata densa e a lua surgindo no céu. A jornada da existência é descrita entre sombras e clarões de emoção, onde a poesia encontra sua razão.'"
      ]
     },
     "execution_count": 15,
     "metadata": {},
     "output_type": "execute_result"
    }
   ],
   "source": [
    "conversation.predict(input=\"Resuma a poesia anterior\")"
   ]
  },
  {
   "cell_type": "code",
   "execution_count": null,
   "id": "d32387d0",
   "metadata": {},
   "outputs": [],
   "source": []
  }
 ],
 "metadata": {
  "kernelspec": {
   "display_name": ".venv",
   "language": "python",
   "name": "python3"
  },
  "language_info": {
   "codemirror_mode": {
    "name": "ipython",
    "version": 3
   },
   "file_extension": ".py",
   "mimetype": "text/x-python",
   "name": "python",
   "nbconvert_exporter": "python",
   "pygments_lexer": "ipython3",
   "version": "3.11.7"
  }
 },
 "nbformat": 4,
 "nbformat_minor": 5
}
