{
 "cells": [
  {
   "cell_type": "code",
   "execution_count": 3,
   "id": "5aba86fe",
   "metadata": {},
   "outputs": [],
   "source": [
    "from rich.console import Console\n",
    "import sys\n",
    "import builtins\n",
    "\n",
    "console = Console(force_terminal=False, file=sys.__stdout__)\n",
    "\n",
    "builtins.print = console.print"
   ]
  },
  {
   "cell_type": "code",
   "execution_count": 4,
   "id": "5a2fca98",
   "metadata": {},
   "outputs": [],
   "source": [
    "feedback_produto = \"\"\"\n",
    "Estou muito satisfeito com o Smartphone XYZ Pro. O desempenho é excelente, e o sistema \n",
    "operacional é rápido e intuitivo. A câmera é um dos principais destaques, especialmente o \n",
    "modo noturno, que captura imagens incríveis mesmo em baixa iluminação. A duração da bateria \n",
    "também impressiona, durando facilmente um dia inteiro com uso intenso.\n",
    "Por outro lado, sinto que o produto poderia ser melhorado em alguns aspectos. A tela, \n",
    "embora tenha cores vibrantes, parece refletir bastante luz, dificultando o uso sob o sol. \n",
    "Além disso, o carregador incluído na caixa não oferece carregamento rápido, o que é um ponto \n",
    "negativo considerando o preço do aparelho\n",
    "\"\"\""
   ]
  },
  {
   "cell_type": "code",
   "execution_count": 5,
   "id": "06f19f59",
   "metadata": {},
   "outputs": [],
   "source": [
    "from langchain.prompts import ChatPromptTemplate\n",
    "\n",
    "review_template = ChatPromptTemplate.from_template(\"\"\"\n",
    "Para o texto a seguir, extraia as seguintes informações:\n",
    "produto: Nome do produto mencionado no texto.\n",
    "características_positivas: Liste todas as características positivas mencionadas sobre o produto.\n",
    "características_negativas: Liste todas as características negativas mencionadas sobre o produto.\n",
    "recomendação: O cliente recomenda o produto? Responda True para sim ou False para não.\n",
    "\n",
    "Texto: {review}\n",
    "\n",
    "Retorne a resposta no formato JSON\n",
    "\"\"\"\n",
    ")"
   ]
  },
  {
   "cell_type": "code",
   "execution_count": 6,
   "id": "76c2cbef",
   "metadata": {},
   "outputs": [
    {
     "data": {
      "text/html": [
       "<pre style=\"white-space:pre;overflow-x:auto;line-height:normal;font-family:Menlo,'DejaVu Sans Mono',consolas,'Courier New',monospace\"><span style=\"font-weight: bold\">[</span>\n",
       "    <span style=\"color: #800080; text-decoration-color: #800080; font-weight: bold\">HumanMessage</span><span style=\"font-weight: bold\">(</span>\n",
       "        <span style=\"color: #808000; text-decoration-color: #808000\">content</span>=<span style=\"color: #008000; text-decoration-color: #008000\">'\\nPara o texto a seguir, extraia as seguintes informações:\\nproduto: Nome do produto mencionado no</span>\n",
       "<span style=\"color: #008000; text-decoration-color: #008000\">texto.\\ncaracterísticas_positivas: Liste todas as características positivas mencionadas sobre o </span>\n",
       "<span style=\"color: #008000; text-decoration-color: #008000\">produto.\\ncaracterísticas_negativas: Liste todas as características negativas mencionadas sobre o </span>\n",
       "<span style=\"color: #008000; text-decoration-color: #008000\">produto.\\nrecomendação: O cliente recomenda o produto? Responda True para sim ou False para não.\\n\\nTexto: \\nEstou </span>\n",
       "<span style=\"color: #008000; text-decoration-color: #008000\">muito satisfeito com o Smartphone XYZ Pro. O desempenho é excelente, e o sistema \\noperacional é rápido e </span>\n",
       "<span style=\"color: #008000; text-decoration-color: #008000\">intuitivo. A câmera é um dos principais destaques, especialmente o \\nmodo noturno, que captura imagens incríveis </span>\n",
       "<span style=\"color: #008000; text-decoration-color: #008000\">mesmo em baixa iluminação. A duração da bateria \\ntambém impressiona, durando facilmente um dia inteiro com uso </span>\n",
       "<span style=\"color: #008000; text-decoration-color: #008000\">intenso.\\nPor outro lado, sinto que o produto poderia ser melhorado em alguns aspectos. A tela, \\nembora tenha </span>\n",
       "<span style=\"color: #008000; text-decoration-color: #008000\">cores vibrantes, parece refletir bastante luz, dificultando o uso sob o sol. \\nAlém disso, o carregador incluído na</span>\n",
       "<span style=\"color: #008000; text-decoration-color: #008000\">caixa não oferece carregamento rápido, o que é um ponto \\nnegativo considerando o preço do aparelho\\n\\n\\nRetorne a </span>\n",
       "<span style=\"color: #008000; text-decoration-color: #008000\">resposta no formato JSON\\n'</span>,\n",
       "        <span style=\"color: #808000; text-decoration-color: #808000\">additional_kwargs</span>=<span style=\"font-weight: bold\">{}</span>,\n",
       "        <span style=\"color: #808000; text-decoration-color: #808000\">response_metadata</span>=<span style=\"font-weight: bold\">{}</span>\n",
       "    <span style=\"font-weight: bold\">)</span>\n",
       "<span style=\"font-weight: bold\">]</span>\n",
       "</pre>\n"
      ],
      "text/plain": [
       "\u001b[1m[\u001b[0m\n",
       "    \u001b[1;35mHumanMessage\u001b[0m\u001b[1m(\u001b[0m\n",
       "        \u001b[33mcontent\u001b[0m=\u001b[32m'\\nPara o texto a seguir, extraia as seguintes informações:\\nproduto: Nome do produto mencionado no\u001b[0m\n",
       "\u001b[32mtexto.\\ncaracterísticas_positivas: Liste todas as características positivas mencionadas sobre o \u001b[0m\n",
       "\u001b[32mproduto.\\ncaracterísticas_negativas: Liste todas as características negativas mencionadas sobre o \u001b[0m\n",
       "\u001b[32mproduto.\\nrecomendação: O cliente recomenda o produto? Responda True para sim ou False para não.\\n\\nTexto: \\nEstou \u001b[0m\n",
       "\u001b[32mmuito satisfeito com o Smartphone XYZ Pro. O desempenho é excelente, e o sistema \\noperacional é rápido e \u001b[0m\n",
       "\u001b[32mintuitivo. A câmera é um dos principais destaques, especialmente o \\nmodo noturno, que captura imagens incríveis \u001b[0m\n",
       "\u001b[32mmesmo em baixa iluminação. A duração da bateria \\ntambém impressiona, durando facilmente um dia inteiro com uso \u001b[0m\n",
       "\u001b[32mintenso.\\nPor outro lado, sinto que o produto poderia ser melhorado em alguns aspectos. A tela, \\nembora tenha \u001b[0m\n",
       "\u001b[32mcores vibrantes, parece refletir bastante luz, dificultando o uso sob o sol. \\nAlém disso, o carregador incluído na\u001b[0m\n",
       "\u001b[32mcaixa não oferece carregamento rápido, o que é um ponto \\nnegativo considerando o preço do aparelho\\n\\n\\nRetorne a \u001b[0m\n",
       "\u001b[32mresposta no formato JSON\\n'\u001b[0m,\n",
       "        \u001b[33madditional_kwargs\u001b[0m=\u001b[1m{\u001b[0m\u001b[1m}\u001b[0m,\n",
       "        \u001b[33mresponse_metadata\u001b[0m=\u001b[1m{\u001b[0m\u001b[1m}\u001b[0m\n",
       "    \u001b[1m)\u001b[0m\n",
       "\u001b[1m]\u001b[0m\n"
      ]
     },
     "metadata": {},
     "output_type": "display_data"
    }
   ],
   "source": [
    "print(review_template.format_messages(review=feedback_produto))"
   ]
  },
  {
   "cell_type": "code",
   "execution_count": 7,
   "id": "b60889a3",
   "metadata": {},
   "outputs": [],
   "source": [
    "from langchain_openai.chat_models import ChatOpenAI\n",
    "\n",
    "chat = ChatOpenAI()\n",
    "resposta = chat.invoke(review_template.format_messages(review=feedback_produto))"
   ]
  },
  {
   "cell_type": "code",
   "execution_count": 8,
   "id": "cca53982",
   "metadata": {},
   "outputs": [
    {
     "data": {
      "text/html": [
       "<pre style=\"white-space:pre;overflow-x:auto;line-height:normal;font-family:Menlo,'DejaVu Sans Mono',consolas,'Courier New',monospace\"><span style=\"font-weight: bold\">{</span>\n",
       "    <span style=\"color: #008000; text-decoration-color: #008000\">\"produto\"</span>: <span style=\"color: #008000; text-decoration-color: #008000\">\"Smartphone XYZ Pro\"</span>,\n",
       "    <span style=\"color: #008000; text-decoration-color: #008000\">\"características_positivas\"</span>: <span style=\"font-weight: bold\">[</span><span style=\"color: #008000; text-decoration-color: #008000\">\"Desempenho excelente\"</span>, <span style=\"color: #008000; text-decoration-color: #008000\">\"Sistema operacional rápido e intuitivo\"</span>, <span style=\"color: #008000; text-decoration-color: #008000\">\"Câmera de </span>\n",
       "<span style=\"color: #008000; text-decoration-color: #008000\">destaque, principalmente o modo noturno\"</span>, <span style=\"color: #008000; text-decoration-color: #008000\">\"Duração da bateria impressionante\"</span><span style=\"font-weight: bold\">]</span>,\n",
       "    <span style=\"color: #008000; text-decoration-color: #008000\">\"características_negativas\"</span>: <span style=\"font-weight: bold\">[</span><span style=\"color: #008000; text-decoration-color: #008000\">\"Tela reflete bastante luz\"</span>, <span style=\"color: #008000; text-decoration-color: #008000\">\"Carregador não oferece carregamento rápido\"</span><span style=\"font-weight: bold\">]</span>,\n",
       "    <span style=\"color: #008000; text-decoration-color: #008000\">\"recomendação\"</span>: true\n",
       "<span style=\"font-weight: bold\">}</span>\n",
       "</pre>\n"
      ],
      "text/plain": [
       "\u001b[1m{\u001b[0m\n",
       "    \u001b[32m\"produto\"\u001b[0m: \u001b[32m\"Smartphone XYZ Pro\"\u001b[0m,\n",
       "    \u001b[32m\"características_positivas\"\u001b[0m: \u001b[1m[\u001b[0m\u001b[32m\"Desempenho excelente\"\u001b[0m, \u001b[32m\"Sistema operacional rápido e intuitivo\"\u001b[0m, \u001b[32m\"Câmera de \u001b[0m\n",
       "\u001b[32mdestaque, principalmente o modo noturno\"\u001b[0m, \u001b[32m\"Duração da bateria impressionante\"\u001b[0m\u001b[1m]\u001b[0m,\n",
       "    \u001b[32m\"características_negativas\"\u001b[0m: \u001b[1m[\u001b[0m\u001b[32m\"Tela reflete bastante luz\"\u001b[0m, \u001b[32m\"Carregador não oferece carregamento rápido\"\u001b[0m\u001b[1m]\u001b[0m,\n",
       "    \u001b[32m\"recomendação\"\u001b[0m: true\n",
       "\u001b[1m}\u001b[0m\n"
      ]
     },
     "metadata": {},
     "output_type": "display_data"
    }
   ],
   "source": [
    "print(resposta.content)"
   ]
  },
  {
   "cell_type": "code",
   "execution_count": 9,
   "id": "f6cf2d94",
   "metadata": {},
   "outputs": [],
   "source": [
    "from langchain.output_parsers import ResponseSchema\n",
    "from langchain.output_parsers import StructuredOutputParser"
   ]
  },
  {
   "cell_type": "code",
   "execution_count": 10,
   "id": "4c2d27ab",
   "metadata": {},
   "outputs": [],
   "source": [
    "schema_produto = ResponseSchema(\n",
    "    name=\"produto\",\n",
    "    type=\"string\",\n",
    "    description=\"Nome do produto mencionado no texto\"\n",
    ")\n",
    "\n",
    "schema_positivas = ResponseSchema(\n",
    "    name=\"caracteristicas_positivas\",\n",
    "    type=\"list\",\n",
    "    description=\"Liste todas as características positivas mencionadas sobre o produto\"\n",
    ")\n",
    "\n",
    "schema_negativas = ResponseSchema(\n",
    "    name='características_negativas',\n",
    "    type='list',\n",
    "    description='Liste todas as características negativas mencionadas sobre o produto.'\n",
    ")\n",
    "\n",
    "schema_recomendacao = ResponseSchema(\n",
    "    name='recomendação',\n",
    "    type='bool',\n",
    "    description='O cliente recomenda o produto? Responda True para sim ou False para não.'\n",
    ")"
   ]
  },
  {
   "cell_type": "code",
   "execution_count": 11,
   "id": "90a87079",
   "metadata": {},
   "outputs": [],
   "source": [
    "response_schema = [schema_produto, schema_positivas, schema_negativas, schema_recomendacao]\n",
    "output_parser = StructuredOutputParser.from_response_schemas(response_schema)\n",
    "schema_formatado = output_parser.get_format_instructions()"
   ]
  },
  {
   "cell_type": "code",
   "execution_count": 12,
   "id": "84ae7490",
   "metadata": {},
   "outputs": [
    {
     "data": {
      "text/html": [
       "<pre style=\"white-space:pre;overflow-x:auto;line-height:normal;font-family:Menlo,'DejaVu Sans Mono',consolas,'Courier New',monospace\">The output should be a markdown code snippet formatted in the following schema, including the leading and trailing \n",
       "<span style=\"color: #008000; text-decoration-color: #008000\">\"```json\"</span> and <span style=\"color: #008000; text-decoration-color: #008000\">\"```\"</span>:\n",
       "\n",
       "```json\n",
       "<span style=\"font-weight: bold\">{</span>\n",
       "        <span style=\"color: #008000; text-decoration-color: #008000\">\"produto\"</span>: string  <span style=\"color: #800080; text-decoration-color: #800080\">//</span> Nome do produto mencionado no texto\n",
       "        <span style=\"color: #008000; text-decoration-color: #008000\">\"caracteristicas_positivas\"</span>: list  <span style=\"color: #800080; text-decoration-color: #800080\">//</span> Liste todas as características positivas mencionadas sobre o produto\n",
       "        <span style=\"color: #008000; text-decoration-color: #008000\">\"características_negativas\"</span>: list  <span style=\"color: #800080; text-decoration-color: #800080\">//</span> Liste todas as características negativas mencionadas sobre o produto.\n",
       "        <span style=\"color: #008000; text-decoration-color: #008000\">\"recomendação\"</span>: bool  <span style=\"color: #800080; text-decoration-color: #800080\">//</span> O cliente recomenda o produto? Responda <span style=\"color: #00ff00; text-decoration-color: #00ff00; font-style: italic\">True</span> para sim ou <span style=\"color: #ff0000; text-decoration-color: #ff0000; font-style: italic\">False</span> para não.\n",
       "<span style=\"font-weight: bold\">}</span>\n",
       "```\n",
       "</pre>\n"
      ],
      "text/plain": [
       "The output should be a markdown code snippet formatted in the following schema, including the leading and trailing \n",
       "\u001b[32m\"```json\"\u001b[0m and \u001b[32m\"```\"\u001b[0m:\n",
       "\n",
       "```json\n",
       "\u001b[1m{\u001b[0m\n",
       "        \u001b[32m\"produto\"\u001b[0m: string  \u001b[35m/\u001b[0m\u001b[35m/\u001b[0m Nome do produto mencionado no texto\n",
       "        \u001b[32m\"caracteristicas_positivas\"\u001b[0m: list  \u001b[35m/\u001b[0m\u001b[35m/\u001b[0m Liste todas as características positivas mencionadas sobre o produto\n",
       "        \u001b[32m\"características_negativas\"\u001b[0m: list  \u001b[35m/\u001b[0m\u001b[35m/\u001b[0m Liste todas as características negativas mencionadas sobre o produto.\n",
       "        \u001b[32m\"recomendação\"\u001b[0m: bool  \u001b[35m/\u001b[0m\u001b[35m/\u001b[0m O cliente recomenda o produto? Responda \u001b[3;92mTrue\u001b[0m para sim ou \u001b[3;91mFalse\u001b[0m para não.\n",
       "\u001b[1m}\u001b[0m\n",
       "```\n"
      ]
     },
     "metadata": {},
     "output_type": "display_data"
    }
   ],
   "source": [
    "print(schema_formatado)"
   ]
  },
  {
   "cell_type": "code",
   "execution_count": 13,
   "id": "b412cd29",
   "metadata": {},
   "outputs": [],
   "source": [
    "review_template2 = ChatPromptTemplate.from_template(\"\"\"\n",
    "Para o texto a seguir, extraia as seguintes informações:\n",
    "produto, caracteristicas_positivas, caracteristicas_negativas e recomendacao\n",
    "\n",
    "Texto: {review}\n",
    "\n",
    "{schema}\n",
    "\"\"\", partial_variables={\"schema\":schema_formatado}\n",
    ")"
   ]
  },
  {
   "cell_type": "code",
   "execution_count": 14,
   "id": "2ac71f00",
   "metadata": {},
   "outputs": [
    {
     "data": {
      "text/html": [
       "<pre style=\"white-space:pre;overflow-x:auto;line-height:normal;font-family:Menlo,'DejaVu Sans Mono',consolas,'Courier New',monospace\"><span style=\"font-weight: bold\">[</span>\n",
       "    <span style=\"color: #800080; text-decoration-color: #800080; font-weight: bold\">HumanMessage</span><span style=\"font-weight: bold\">(</span>\n",
       "        <span style=\"color: #808000; text-decoration-color: #808000\">content</span>=<span style=\"color: #008000; text-decoration-color: #008000\">'\\nPara o texto a seguir, extraia as seguintes informações:\\nproduto, caracteristicas_positivas, </span>\n",
       "<span style=\"color: #008000; text-decoration-color: #008000\">caracteristicas_negativas e recomendacao\\n\\nTexto: \\nEstou muito satisfeito com o Smartphone XYZ Pro. O desempenho </span>\n",
       "<span style=\"color: #008000; text-decoration-color: #008000\">é excelente, e o sistema \\noperacional é rápido e intuitivo. A câmera é um dos principais destaques, especialmente </span>\n",
       "<span style=\"color: #008000; text-decoration-color: #008000\">o \\nmodo noturno, que captura imagens incríveis mesmo em baixa iluminação. A duração da bateria \\ntambém </span>\n",
       "<span style=\"color: #008000; text-decoration-color: #008000\">impressiona, durando facilmente um dia inteiro com uso intenso.\\nPor outro lado, sinto que o produto poderia ser </span>\n",
       "<span style=\"color: #008000; text-decoration-color: #008000\">melhorado em alguns aspectos. A tela, \\nembora tenha cores vibrantes, parece refletir bastante luz, dificultando o </span>\n",
       "<span style=\"color: #008000; text-decoration-color: #008000\">uso sob o sol. \\nAlém disso, o carregador incluído na caixa não oferece carregamento rápido, o que é um ponto </span>\n",
       "<span style=\"color: #008000; text-decoration-color: #008000\">\\nnegativo considerando o preço do aparelho\\n\\n\\nThe output should be a markdown code snippet formatted in the </span>\n",
       "<span style=\"color: #008000; text-decoration-color: #008000\">following schema, including the leading and trailing \"```json\" and \"```\":\\n\\n```json\\n{\\n\\t\"produto\": string  // </span>\n",
       "<span style=\"color: #008000; text-decoration-color: #008000\">Nome do produto mencionado no texto\\n\\t\"caracteristicas_positivas\": list  // Liste todas as características </span>\n",
       "<span style=\"color: #008000; text-decoration-color: #008000\">positivas mencionadas sobre o produto\\n\\t\"características_negativas\": list  // Liste todas as características </span>\n",
       "<span style=\"color: #008000; text-decoration-color: #008000\">negativas mencionadas sobre o produto.\\n\\t\"recomendação\": bool  // O cliente recomenda o produto? Responda True </span>\n",
       "<span style=\"color: #008000; text-decoration-color: #008000\">para sim ou False para não.\\n}\\n```\\n'</span>,\n",
       "        <span style=\"color: #808000; text-decoration-color: #808000\">additional_kwargs</span>=<span style=\"font-weight: bold\">{}</span>,\n",
       "        <span style=\"color: #808000; text-decoration-color: #808000\">response_metadata</span>=<span style=\"font-weight: bold\">{}</span>\n",
       "    <span style=\"font-weight: bold\">)</span>\n",
       "<span style=\"font-weight: bold\">]</span>\n",
       "</pre>\n"
      ],
      "text/plain": [
       "\u001b[1m[\u001b[0m\n",
       "    \u001b[1;35mHumanMessage\u001b[0m\u001b[1m(\u001b[0m\n",
       "        \u001b[33mcontent\u001b[0m=\u001b[32m'\\nPara o texto a seguir, extraia as seguintes informações:\\nproduto, caracteristicas_positivas, \u001b[0m\n",
       "\u001b[32mcaracteristicas_negativas e recomendacao\\n\\nTexto: \\nEstou muito satisfeito com o Smartphone XYZ Pro. O desempenho \u001b[0m\n",
       "\u001b[32mé excelente, e o sistema \\noperacional é rápido e intuitivo. A câmera é um dos principais destaques, especialmente \u001b[0m\n",
       "\u001b[32mo \\nmodo noturno, que captura imagens incríveis mesmo em baixa iluminação. A duração da bateria \\ntambém \u001b[0m\n",
       "\u001b[32mimpressiona, durando facilmente um dia inteiro com uso intenso.\\nPor outro lado, sinto que o produto poderia ser \u001b[0m\n",
       "\u001b[32mmelhorado em alguns aspectos. A tela, \\nembora tenha cores vibrantes, parece refletir bastante luz, dificultando o \u001b[0m\n",
       "\u001b[32muso sob o sol. \\nAlém disso, o carregador incluído na caixa não oferece carregamento rápido, o que é um ponto \u001b[0m\n",
       "\u001b[32m\\nnegativo considerando o preço do aparelho\\n\\n\\nThe output should be a markdown code snippet formatted in the \u001b[0m\n",
       "\u001b[32mfollowing schema, including the leading and trailing \"```json\" and \"```\":\\n\\n```json\\n\u001b[0m\u001b[32m{\u001b[0m\u001b[32m\\n\\t\"produto\": string  // \u001b[0m\n",
       "\u001b[32mNome do produto mencionado no texto\\n\\t\"caracteristicas_positivas\": list  // Liste todas as características \u001b[0m\n",
       "\u001b[32mpositivas mencionadas sobre o produto\\n\\t\"características_negativas\": list  // Liste todas as características \u001b[0m\n",
       "\u001b[32mnegativas mencionadas sobre o produto.\\n\\t\"recomendação\": bool  // O cliente recomenda o produto? Responda True \u001b[0m\n",
       "\u001b[32mpara sim ou False para não.\\n\u001b[0m\u001b[32m}\u001b[0m\u001b[32m\\n```\\n'\u001b[0m,\n",
       "        \u001b[33madditional_kwargs\u001b[0m=\u001b[1m{\u001b[0m\u001b[1m}\u001b[0m,\n",
       "        \u001b[33mresponse_metadata\u001b[0m=\u001b[1m{\u001b[0m\u001b[1m}\u001b[0m\n",
       "    \u001b[1m)\u001b[0m\n",
       "\u001b[1m]\u001b[0m\n"
      ]
     },
     "metadata": {},
     "output_type": "display_data"
    }
   ],
   "source": [
    "print(review_template2.format_messages(review=feedback_produto))"
   ]
  },
  {
   "cell_type": "code",
   "execution_count": 15,
   "id": "bc672666",
   "metadata": {},
   "outputs": [],
   "source": [
    "resposta = chat.invoke(review_template2.format_messages(review=feedback_produto))"
   ]
  },
  {
   "cell_type": "code",
   "execution_count": 17,
   "id": "2a4914c7",
   "metadata": {},
   "outputs": [
    {
     "data": {
      "text/html": [
       "<pre style=\"white-space:pre;overflow-x:auto;line-height:normal;font-family:Menlo,'DejaVu Sans Mono',consolas,'Courier New',monospace\">```json\n",
       "<span style=\"font-weight: bold\">{</span>\n",
       "        <span style=\"color: #008000; text-decoration-color: #008000\">\"produto\"</span>: <span style=\"color: #008000; text-decoration-color: #008000\">\"Smartphone XYZ Pro\"</span>,\n",
       "        <span style=\"color: #008000; text-decoration-color: #008000\">\"caracteristicas_positivas\"</span>: <span style=\"font-weight: bold\">[</span><span style=\"color: #008000; text-decoration-color: #008000\">\"excelente desempenho\"</span>, <span style=\"color: #008000; text-decoration-color: #008000\">\"sistema operacional rápido e intuitivo\"</span>, <span style=\"color: #008000; text-decoration-color: #008000\">\"câmera com</span>\n",
       "<span style=\"color: #008000; text-decoration-color: #008000\">destaque para o modo noturno\"</span>, <span style=\"color: #008000; text-decoration-color: #008000\">\"duração da bateria impressionante\"</span><span style=\"font-weight: bold\">]</span>,\n",
       "        <span style=\"color: #008000; text-decoration-color: #008000\">\"características_negativas\"</span>: <span style=\"font-weight: bold\">[</span><span style=\"color: #008000; text-decoration-color: #008000\">\"tela reflete muita luz\"</span>, <span style=\"color: #008000; text-decoration-color: #008000\">\"carregador não oferece carregamento rápido\"</span><span style=\"font-weight: bold\">]</span>,\n",
       "        <span style=\"color: #008000; text-decoration-color: #008000\">\"recomendação\"</span>: true\n",
       "<span style=\"font-weight: bold\">}</span>\n",
       "```\n",
       "</pre>\n"
      ],
      "text/plain": [
       "```json\n",
       "\u001b[1m{\u001b[0m\n",
       "        \u001b[32m\"produto\"\u001b[0m: \u001b[32m\"Smartphone XYZ Pro\"\u001b[0m,\n",
       "        \u001b[32m\"caracteristicas_positivas\"\u001b[0m: \u001b[1m[\u001b[0m\u001b[32m\"excelente desempenho\"\u001b[0m, \u001b[32m\"sistema operacional rápido e intuitivo\"\u001b[0m, \u001b[32m\"câmera com\u001b[0m\n",
       "\u001b[32mdestaque para o modo noturno\"\u001b[0m, \u001b[32m\"duração da bateria impressionante\"\u001b[0m\u001b[1m]\u001b[0m,\n",
       "        \u001b[32m\"características_negativas\"\u001b[0m: \u001b[1m[\u001b[0m\u001b[32m\"tela reflete muita luz\"\u001b[0m, \u001b[32m\"carregador não oferece carregamento rápido\"\u001b[0m\u001b[1m]\u001b[0m,\n",
       "        \u001b[32m\"recomendação\"\u001b[0m: true\n",
       "\u001b[1m}\u001b[0m\n",
       "```\n"
      ]
     },
     "metadata": {},
     "output_type": "display_data"
    }
   ],
   "source": [
    "print(resposta.content)"
   ]
  },
  {
   "cell_type": "code",
   "execution_count": 18,
   "id": "86bfea79",
   "metadata": {},
   "outputs": [],
   "source": [
    "resposta_json = output_parser.parse(resposta.content)"
   ]
  },
  {
   "cell_type": "code",
   "execution_count": 19,
   "id": "4a2c731f",
   "metadata": {},
   "outputs": [
    {
     "data": {
      "text/plain": [
       "'Smartphone XYZ Pro'"
      ]
     },
     "execution_count": 19,
     "metadata": {},
     "output_type": "execute_result"
    }
   ],
   "source": [
    "resposta_json[\"produto\"]"
   ]
  },
  {
   "cell_type": "code",
   "execution_count": 20,
   "id": "483f46d2",
   "metadata": {},
   "outputs": [
    {
     "data": {
      "text/plain": [
       "['excelente desempenho',\n",
       " 'sistema operacional rápido e intuitivo',\n",
       " 'câmera com destaque para o modo noturno',\n",
       " 'duração da bateria impressionante']"
      ]
     },
     "execution_count": 20,
     "metadata": {},
     "output_type": "execute_result"
    }
   ],
   "source": [
    "resposta_json[\"caracteristicas_positivas\"]"
   ]
  },
  {
   "cell_type": "code",
   "execution_count": 21,
   "id": "51f46dc3",
   "metadata": {},
   "outputs": [
    {
     "data": {
      "text/plain": [
       "['tela reflete muita luz', 'carregador não oferece carregamento rápido']"
      ]
     },
     "execution_count": 21,
     "metadata": {},
     "output_type": "execute_result"
    }
   ],
   "source": [
    "resposta_json[\"características_negativas\"]"
   ]
  },
  {
   "cell_type": "code",
   "execution_count": 22,
   "id": "90f21972",
   "metadata": {},
   "outputs": [
    {
     "data": {
      "text/plain": [
       "True"
      ]
     },
     "execution_count": 22,
     "metadata": {},
     "output_type": "execute_result"
    }
   ],
   "source": [
    "resposta_json[\"recomendação\"]"
   ]
  },
  {
   "cell_type": "code",
   "execution_count": null,
   "id": "b0f58e6a",
   "metadata": {},
   "outputs": [],
   "source": []
  }
 ],
 "metadata": {
  "kernelspec": {
   "display_name": ".venv",
   "language": "python",
   "name": "python3"
  },
  "language_info": {
   "codemirror_mode": {
    "name": "ipython",
    "version": 3
   },
   "file_extension": ".py",
   "mimetype": "text/x-python",
   "name": "python",
   "nbconvert_exporter": "python",
   "pygments_lexer": "ipython3",
   "version": "3.11.7"
  }
 },
 "nbformat": 4,
 "nbformat_minor": 5
}
