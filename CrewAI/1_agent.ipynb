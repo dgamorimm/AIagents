{
 "cells": [
  {
   "cell_type": "code",
   "execution_count": 1,
   "id": "0b3117fe",
   "metadata": {},
   "outputs": [],
   "source": [
    "from dotenv import load_dotenv\n",
    "_ = load_dotenv()\n",
    "from crewai import Crew, Process, Agent, Task"
   ]
  },
  {
   "cell_type": "code",
   "execution_count": 2,
   "id": "dae799f1",
   "metadata": {},
   "outputs": [],
   "source": [
    "planejador_de_viagem = Agent(\n",
    "    role=\"Planejador de Viagem\",\n",
    "    goal=\"Planejar todos os detalhes de uma viagem, incluindo roteiros e atividades.\",\n",
    "    backstory=\"\"\"\n",
    "    Você é um especialista em planejamento de viagens, sempre em busca de \n",
    "    novas aventuras e experiências. Seu objetivo é garatir os detalhes da viagem\n",
    "    sejam organizados de maneira eficiente e agradável.\n",
    "    \"\"\",\n",
    "    verbose=True\n",
    ")"
   ]
  },
  {
   "cell_type": "code",
   "execution_count": 3,
   "id": "8f5916c8",
   "metadata": {},
   "outputs": [],
   "source": [
    "orcamentista = Agent(\n",
    "    role=\"Orçamentista de Viagem\",\n",
    "    goal=\"Estimar o custo total de viagem, considerando transporte, hospedagem, alimentação e atividades\",\n",
    "    backstory=\"\"\"\n",
    "    Você é um analista financeiro focado em viagem. Sua missão é garantir que os custos estejam\n",
    "    dentro do orçamento, criando estimativas precisas para cada parte da viagem.\n",
    "    \"\"\"\n",
    ")"
   ]
  },
  {
   "cell_type": "code",
   "execution_count": 4,
   "id": "ec302108",
   "metadata": {},
   "outputs": [],
   "source": [
    "planeja_roteiro = Task(\n",
    "    description=\"Crie um roteiro detalhado para uma viagem, incluindo as cidades, atividades e transporte\",\n",
    "    agent=planejador_de_viagem,\n",
    "    expected_output=\"\"\"\n",
    "    Um roteiro com a sequência de cidades a serem visitadas, as principais\n",
    "    atividades e o tipo de transporte utilizado\n",
    "    \"\"\"\n",
    ")"
   ]
  },
  {
   "cell_type": "code",
   "execution_count": 5,
   "id": "b64529b3",
   "metadata": {},
   "outputs": [],
   "source": [
    "estima_orcamento = Task(\n",
    "    description=\"Calcule o orçamento total da viagem, levando em consideração as cidades, transporte, hospedagem e atividades\",\n",
    "    agent=orcamentista,\n",
    "    expected_output=\"\"\"\n",
    "    Uma estimativa de orçamento detalhada, com custos aproximados para cada item da viagem\n",
    "    \"\"\"\n",
    ")"
   ]
  },
  {
   "cell_type": "code",
   "execution_count": 6,
   "id": "86eb7715",
   "metadata": {},
   "outputs": [],
   "source": [
    "viagem_crew = Crew(\n",
    "    agents=[planejador_de_viagem, orcamentista],\n",
    "    tasks=[planeja_roteiro, estima_orcamento],\n",
    "    process=Process.sequential\n",
    ")"
   ]
  },
  {
   "cell_type": "code",
   "execution_count": 7,
   "id": "e0f1bc74",
   "metadata": {},
   "outputs": [
    {
     "name": "stdout",
     "output_type": "stream",
     "text": [
      "\u001b[1m\u001b[95m# Agent:\u001b[00m \u001b[1m\u001b[92mPlanejador de Viagem\u001b[00m\n",
      "\u001b[95m## Task:\u001b[00m \u001b[92mCrie um roteiro detalhado para uma viagem, incluindo as cidades, atividades e transporte\u001b[00m\n",
      "\n",
      "\n",
      "\u001b[1m\u001b[95m# Agent:\u001b[00m \u001b[1m\u001b[92mPlanejador de Viagem\u001b[00m\n",
      "\u001b[95m## Final Answer:\u001b[00m \u001b[92m\n",
      "**Roteiro Detalhado para uma Viagem pelo Sudeste Asiático (14 dias)**\n",
      "\n",
      "**1. Dia 1-3: Bangkok, Tailândia**  \n",
      "- **Atividades:**\n",
      "  - Visita ao Grande Palácio e Templo do Buda Esmeralda.\n",
      "  - Passeio de barco pelos canais de Thonburi.\n",
      "  - Mercado flutuante de Damnoen Saduak.\n",
      "  - Visita ao Templo Wat Pho para ver o Buda Reclinado.\n",
      "  - Experimentar a gastronomia local na Khao San Road.\n",
      "- **Transporte:** \n",
      "  - Voo internacional para Bangkok.\n",
      "  - Transporte local utilizando BTS Skytrain e táxis.\n",
      "\n",
      "**2. Dia 4-6: Chiang Mai, Tailândia**  \n",
      "- **Atividades:**\n",
      "  - Visita ao Templo Doi Suthep para vistas panorâmicas da cidade.\n",
      "  - Participação em um curso de culinária tailandesa local.\n",
      "  - Visita ao santuário de elefantes e interação com os animais.\n",
      "  - Exploração do Mercado Nocturno de Chiang Mai.\n",
      "- **Transporte:** \n",
      "  - Voo de Bangkok para Chiang Mai (aproximadamente 1h30).\n",
      "\n",
      "**3. Dia 7-8: Luang Prabang, Laos**  \n",
      "- **Atividades:**\n",
      "  - Visita ao templo Wat Xieng Thong.\n",
      "  - Participação na cerimônia do alms, onde os monges coletam oferendas.\n",
      "  - Excursão às cachoeiras Kuang Si.\n",
      "  - Passeio pelo mercado noturno.\n",
      "- **Transporte:** \n",
      "  - Voo de Chiang Mai para Luang Prabang (aproximadamente 1h).\n",
      "\n",
      "**4. Dia 9-10: Hanoi, Vietnã**  \n",
      "- **Atividades:**\n",
      "  - Visita ao Mausoléu de Ho Chi Minh e à Casa de Ho Chi Minh.\n",
      "  - Exploração do antigo bairro de Hanoi.\n",
      "  - Passeio ao Lago Hoan Kiem.\n",
      "  - Aula de culinária para aprender a preparar Pho.\n",
      "- **Transporte:** \n",
      "  - Voo de Luang Prabang para Hanoi (aproximadamente 1h30).\n",
      "\n",
      "**5. Dia 11-12: Ha Long Bay, Vietnã**  \n",
      "- **Atividades:**\n",
      "  - Cruzeiro de duas noites na Baía de Ha Long, visitando as ilhas e grutas.\n",
      "  - Kayaking e opções de natação nas águas esmeralda.\n",
      "  - Visita a uma aldeia flotante.\n",
      "- **Transporte:**\n",
      "  - Transferência em ônibus de Hanoi até Ha Long Bay (cerca de 4h).\n",
      "\n",
      "**6. Dia 13-14: Siem Reap, Camboja**  \n",
      "- **Atividades:**\n",
      "  - Visita ao complexo de templos de Angkor Wat do século XII.\n",
      "  - Exploração do Templo de Ta Prohm, famoso pelo crescimento das árvores.\n",
      "  - Passeio de balão de ar quente ao pôr do sol sobre os templos.\n",
      "- **Transporte:**\n",
      "  - Voo de Hanoi para Siem Reap (aproximadamente 1h30).\n",
      "\n",
      "**Transporte Geral Durante a Viagem:**  \n",
      "- Cada cidade terá transporte local, incluindo táxis, tuk-tuks e transportes públicos. Considere adquirir um SIM card local para acesso à internet e uso de aplicativos de transporte.\n",
      "\n",
      "**Resumo Financeiro Estimado da Viagem:**  \n",
      "- Passagens aéreas: Aproximadamente R$ 4.000 (ida e volta + voos internos)\n",
      "- Acomodação: R$ 2.500 (média de R$ 180/dia)\n",
      "- Alimentação e atividades: R$ 1.500\n",
      "- Transporte local: R$ 500\n",
      "- **Total aproximado:** R$ 8.500\n",
      "\n",
      "**Dicas Finais:**\n",
      "- Verifique requisitos de visto para cada país.\n",
      "- Leve roupas leves e confortáveis, além de protetor solar e repelente.\n",
      "- Aproveite a culinária local e explore mercados para uma experiência autêntica.\n",
      "\n",
      "Pronto! Você tem um roteiro completo e funcional para a sua incrível viagem pelo Sudeste Asiático.\u001b[00m\n",
      "\n",
      "\n"
     ]
    }
   ],
   "source": [
    "result = viagem_crew.kickoff()"
   ]
  },
  {
   "cell_type": "code",
   "execution_count": 8,
   "id": "bf1fa8b2",
   "metadata": {},
   "outputs": [
    {
     "name": "stdout",
     "output_type": "stream",
     "text": [
      "**Estimativa Detalhada de Orçamento para Viagem pelo Sudeste Asiático (14 dias)**\n",
      "\n",
      "**1. Transporte:**\n",
      "- **Voo internacional (ida e volta + voos internos):** aproximadamente R$ 4.000,00.\n",
      "- **Transporte interno:**\n",
      "  - **Bangkok:** BTS Skytrain e táxis - R$ 200,00.\n",
      "  - **Chiang Mai:** Vôo de Bangkok para Chiang Mai (aproximadamente 1h30) - R$ 300,00.\n",
      "  - **Luang Prabang:** Vôo de Chiang Mai para Luang Prabang (aproximadamente 1h) - R$ 350,00.\n",
      "  - **Hanoi:** Vôo de Luang Prabang para Hanoi (aproximadamente 1h30) - R$ 350,00.\n",
      "  - **Ha Long Bay:** Transferência em ônibus de Hanoi (cerca de 4h) - R$ 100,00.\n",
      "  - **Siem Reap:** Vôo de Hanoi para Siem Reap (aproximadamente 1h30) - R$ 350,00.\n",
      "- **Transportes locais em cidades (táxis, tuk-tuks, transporte público):** R$ 500,00.\n",
      "- **Total de transporte:** R$ 6.000,00.\n",
      "\n",
      "**2. Hospedagem:**\n",
      "- **Custo médio por dia:** R$ 180,00.\n",
      "- **Total para 14 dias:** R$ 2.500,00.\n",
      "\n",
      "**3. Alimentação e Atividades:**\n",
      "- **Alimentação:** R$ 1.500,00 (média de R$ 107,00/dia).\n",
      "- **Atividades em Bangkok:** Grande Palácio e Templo do Buda Esmeralda + Passeio de barco + Mercado flutuante + Templo Wat Pho + Gastronomia local - R$ 400,00.\n",
      "- **Atividades em Chiang Mai:** Templo Doi Suthep + Curso de culinária + Santuário de elefantes + Mercado Noturno - R$ 500,00.\n",
      "- **Atividades em Luang Prabang:** Templo Wat Xieng Thong + Cerimônia do alms + Cachoeiras Kuang Si + Mercado noturno - R$ 400,00.\n",
      "- **Atividades em Hanoi:** Mausoléu de Ho Chi Minh + Antigo bairro + Lago Hoan Kiem + Aula de culinária - R$ 500,00.\n",
      "- **Atividades em Ha Long Bay:** Cruzeiro de duas noites + Kayaking + Vila flutuante - R$ 1.200,00.\n",
      "- **Atividades em Siem Reap:** Angkor Wat + Templo de Ta Prohm + Passeio de balão - R$ 600,00.\n",
      "- **Total para alimentação e atividades:** R$ 5.700,00.\n",
      "\n",
      "**Total Aproximado da Viagem:**\n",
      "- **Transporte:** R$ 6.000,00\n",
      "- **Hospedagem:** R$ 2.500,00\n",
      "- **Alimentação e Atividades:** R$ 5.700,00\n",
      "- **Total Geral:** R$ 14.200,00\n",
      "\n",
      "**Dicas Finais:**\n",
      "- Verifique os requisitos de visto para cada país.\n",
      "- Prepare-se para o clima tropical com roupas leves e confortáveis.\n",
      "- Considere adquirir um SIM card local para acesso à internet, facilitando o uso de aplicativos de transporte e comunicação.\n",
      "\n",
      "Esta estimativa abrangente permite que você planeje sua viagem pelo Sudeste Asiático de maneira eficiente e controle os gastos, proporcionando uma experiência inesquecível. Aproveite sua viagem!\n"
     ]
    }
   ],
   "source": [
    "print(result.raw)"
   ]
  },
  {
   "cell_type": "code",
   "execution_count": null,
   "id": "1c5fe980",
   "metadata": {},
   "outputs": [],
   "source": []
  }
 ],
 "metadata": {
  "kernelspec": {
   "display_name": ".venv",
   "language": "python",
   "name": "python3"
  },
  "language_info": {
   "codemirror_mode": {
    "name": "ipython",
    "version": 3
   },
   "file_extension": ".py",
   "mimetype": "text/x-python",
   "name": "python",
   "nbconvert_exporter": "python",
   "pygments_lexer": "ipython3",
   "version": "3.11.7"
  }
 },
 "nbformat": 4,
 "nbformat_minor": 5
}
